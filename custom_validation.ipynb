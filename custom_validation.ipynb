{
  "nbformat": 4,
  "nbformat_minor": 0,
  "metadata": {
    "colab": {
      "name": "custom validation.ipynb",
      "provenance": [],
      "collapsed_sections": [],
      "machine_shape": "hm"
    },
    "kernelspec": {
      "name": "python3",
      "display_name": "Python 3"
    }
  },
  "cells": [
    {
      "cell_type": "code",
      "metadata": {
        "id": "eUabDLOQgGqk",
        "colab_type": "code",
        "colab": {}
      },
      "source": [
        "# General imports\n",
        "import numpy as np\n",
        "import pandas as pd\n",
        "import os, sys, gc, re, time, warnings, pickle, psutil, random\n",
        "\n",
        "from math import ceil\n",
        "import lightgbm as lgb\n",
        "from typing import Union\n",
        "\n",
        "warnings.filterwarnings('ignore')"
      ],
      "execution_count": 1,
      "outputs": []
    },
    {
      "cell_type": "code",
      "metadata": {
        "id": "x-rITGflgm7s",
        "colab_type": "code",
        "colab": {}
      },
      "source": [
        "########################### Helpers\n",
        "#################################################################################\n",
        "## Seeder\n",
        "# :seed to make all processes deterministic     # type: int\n",
        "def seed_everything(seed=0):\n",
        "    random.seed(seed)\n",
        "    np.random.seed(seed)\n",
        "\n",
        "## RMSE metric for occasions \n",
        "def rmse(y, y_pred):\n",
        "    return np.sqrt(np.mean(np.square(y - y_pred)))"
      ],
      "execution_count": 2,
      "outputs": []
    },
    {
      "cell_type": "code",
      "metadata": {
        "id": "RZTDXkukgVyM",
        "colab_type": "code",
        "colab": {}
      },
      "source": [
        "########################### Vars\n",
        "#################################################################################\n",
        "TARGET    = 'sales'    # Our Target     \n",
        "END_TRAIN = 1941       # Last day of training set     \n",
        "SEED      = 42         # Seed for deterministic processes  \n",
        "seed_everything(SEED)  # Seeder\n",
        "\n",
        "VERBOSE   = False      # Verbosity on all wrmsse levels   \n",
        "\n",
        "remove_features = ['id','t_block','date','d', 'wm_yr_wk',TARGET]"
      ],
      "execution_count": 3,
      "outputs": []
    },
    {
      "cell_type": "code",
      "metadata": {
        "id": "MkzRcWHGgXTC",
        "colab_type": "code",
        "colab": {}
      },
      "source": [
        "########################### Metric and Evaluators\n",
        "########################### get_evaluators(items_ids=None)\n",
        "########################### items_ids -> list of subset of item_id "
      ],
      "execution_count": null,
      "outputs": []
    },
    {
      "cell_type": "code",
      "metadata": {
        "id": "YbziNDgDx3xd",
        "colab_type": "code",
        "colab": {
          "base_uri": "https://localhost:8080/",
          "height": 34
        },
        "outputId": "9030531e-e488-4c83-fe1a-ecd36a5aea40"
      },
      "source": [
        "from google.colab import drive\n",
        "drive.mount('/content/gdrive')"
      ],
      "execution_count": 6,
      "outputs": [
        {
          "output_type": "stream",
          "text": [
            "Drive already mounted at /content/gdrive; to attempt to forcibly remount, call drive.mount(\"/content/gdrive\", force_remount=True).\n"
          ],
          "name": "stdout"
        }
      ]
    },
    {
      "cell_type": "code",
      "metadata": {
        "id": "txOTL8iugp7f",
        "colab_type": "code",
        "colab": {}
      },
      "source": [
        "########################### Init Metric\n",
        "########################### https://www.kaggle.com/c/m5-forecasting-accuracy/discussion/133834\n",
        "#################################################################################\n",
        "class WRMSSEEvaluator(object):\n",
        "\n",
        "    def __init__(self, train_df: pd.DataFrame, valid_df: pd.DataFrame, calendar: pd.DataFrame, prices: pd.DataFrame):\n",
        "        train_y = train_df.loc[:, train_df.columns.str.startswith('d_')] # столбцы с днями \n",
        "        train_target_columns = train_y.columns.tolist()\n",
        "        weight_columns = train_y.iloc[:, -28:].columns.tolist()\n",
        "\n",
        "        train_df['all_id'] = 0\n",
        "\n",
        "        id_columns = train_df.loc[:, ~train_df.columns.str.startswith('d_')].columns.tolist() # все что не начинается на d\n",
        "        valid_target_columns = valid_df.loc[:, valid_df.columns.str.startswith('d_')].columns.tolist()\n",
        "\n",
        "        if not all([c in valid_df.columns for c in id_columns]):\n",
        "            valid_df = pd.concat([train_df[id_columns], valid_df], axis=1, sort=False)\n",
        "\n",
        "        self.train_df = train_df\n",
        "        self.valid_df = valid_df\n",
        "        self.calendar = calendar\n",
        "        self.prices = prices\n",
        "\n",
        "        self.weight_columns = weight_columns\n",
        "        self.id_columns = id_columns\n",
        "        self.valid_target_columns = valid_target_columns\n",
        "\n",
        "        weight_df = self.get_weight_df()\n",
        "\n",
        "        self.group_ids = (\n",
        "            'all_id',\n",
        "            'state_id',\n",
        "            'store_id',\n",
        "            'cat_id',\n",
        "            'dept_id',\n",
        "            ['state_id', 'cat_id'],\n",
        "            ['state_id', 'dept_id'],\n",
        "            ['store_id', 'cat_id'],\n",
        "            ['store_id', 'dept_id'],\n",
        "            'item_id',\n",
        "            ['item_id', 'state_id'],\n",
        "            ['item_id', 'store_id']\n",
        "        )\n",
        "\n",
        "        for i, group_id in enumerate(self.group_ids):\n",
        "            train_y = train_df.groupby(group_id)[train_target_columns].sum()\n",
        "            scale = []\n",
        "            for _, row in train_y.iterrows():\n",
        "                series = row.values[np.argmax(row.values != 0):]\n",
        "                scale.append(((series[1:] - series[:-1]) ** 2).mean())\n",
        "            setattr(self, f'lv{i + 1}_scale', np.array(scale))\n",
        "            setattr(self, f'lv{i + 1}_train_df', train_y)\n",
        "            setattr(self, f'lv{i + 1}_valid_df', valid_df.groupby(group_id)[valid_target_columns].sum())\n",
        "\n",
        "            lv_weight = weight_df.groupby(group_id)[weight_columns].sum().sum(axis=1)\n",
        "            setattr(self, f'lv{i + 1}_weight', lv_weight / lv_weight.sum())\n",
        "\n",
        "    def get_weight_df(self) -> pd.DataFrame:\n",
        "        day_to_week = self.calendar.set_index('d')['wm_yr_wk'].to_dict()\n",
        "        weight_df = self.train_df[['item_id', 'store_id'] + self.weight_columns].set_index(['item_id', 'store_id'])\n",
        "        weight_df = weight_df.stack().reset_index().rename(columns={'level_2': 'd', 0: 'value'})\n",
        "        weight_df['wm_yr_wk'] = weight_df['d'].map(day_to_week)\n",
        "\n",
        "        weight_df = weight_df.merge(self.prices, how='left', on=['item_id', 'store_id', 'wm_yr_wk'])\n",
        "        weight_df['value'] = weight_df['value'] * weight_df['sell_price']\n",
        "        weight_df = weight_df.set_index(['item_id', 'store_id', 'd']).unstack(level=2)['value']\n",
        "        weight_df = weight_df.loc[zip(self.train_df.item_id, self.train_df.store_id), :].reset_index(drop=True)\n",
        "        weight_df = pd.concat([self.train_df[self.id_columns], weight_df], axis=1, sort=False)\n",
        "        return weight_df\n",
        "\n",
        "    def get_scale(self, valid_preds: pd.DataFrame, lv: int) -> pd.Series:\n",
        "        return getattr(self, f'lv{lv}_scale')\n",
        "        \n",
        "    def rmsse(self, valid_preds: pd.DataFrame, lv: int) -> pd.Series:\n",
        "        valid_y = getattr(self, f'lv{lv}_valid_df')\n",
        "        score = ((valid_y - valid_preds) ** 2).mean(axis=1)\n",
        "        scale = getattr(self, f'lv{lv}_scale')       \n",
        "        return (score / scale).map(np.sqrt)\n",
        "\n",
        "    def score(self, valid_preds: Union[pd.DataFrame, np.ndarray]) -> float:\n",
        "        assert self.valid_df[self.valid_target_columns].shape == valid_preds.shape\n",
        "\n",
        "        if isinstance(valid_preds, np.ndarray):\n",
        "            valid_preds = pd.DataFrame(valid_preds, columns=self.valid_target_columns)\n",
        "\n",
        "        valid_preds = pd.concat([self.valid_df[self.id_columns], valid_preds], axis=1, sort=False)\n",
        "\n",
        "        all_scores = []\n",
        "        for i, group_id in enumerate(self.group_ids):\n",
        "            lv_scores = self.rmsse(valid_preds.groupby(group_id)[self.valid_target_columns].sum(), i + 1)\n",
        "            weight = getattr(self, f'lv{i + 1}_weight')\n",
        "            lv_scores = pd.concat([weight, lv_scores], axis=1, sort=False).prod(axis=1)\n",
        "            all_scores.append(lv_scores.sum())\n",
        "        if VERBOSE:\n",
        "            print(np.round(all_scores,3))\n",
        "        return np.mean(all_scores)\n",
        "\n",
        "    def full_score(self, valid_preds: Union[pd.DataFrame, np.ndarray]) -> float:\n",
        "        assert self.valid_df[self.valid_target_columns].shape == valid_preds.shape\n",
        "\n",
        "        if isinstance(valid_preds, np.ndarray):\n",
        "            valid_preds = pd.DataFrame(valid_preds, columns=self.valid_target_columns)\n",
        "\n",
        "        valid_preds = pd.concat([self.valid_df[self.id_columns], valid_preds], axis=1, sort=False)\n",
        "\n",
        "        all_scores = []\n",
        "        for i, group_id in enumerate(self.group_ids):\n",
        "            lv_scores = self.rmsse(valid_preds.groupby(group_id)[self.valid_target_columns].sum(), i + 1)\n",
        "            weight = getattr(self, f'lv{i + 1}_weight')\n",
        "            lv_scores = pd.concat([weight, lv_scores], axis=1, sort=False).prod(axis=1)\n",
        "            all_scores.append(lv_scores.sum())\n",
        "        print(np.round(all_scores,3))\n",
        "        return np.mean(all_scores)\n",
        "    \n",
        "class WRMSSEForLightGBM(WRMSSEEvaluator):\n",
        "\n",
        "    def feval(self, preds, dtrain):\n",
        "        preds = preds.reshape(self.valid_df[self.valid_target_columns].shape, order='F') #.transpose()\n",
        "        score = self.score(preds)\n",
        "        return 'WRMSSE', score, False\n",
        "    \n",
        "    def full_feval(self, preds, dtrain):\n",
        "        preds = preds.reshape(self.valid_df[self.valid_target_columns].shape, order='F') #.transpose()\n",
        "        score = self.full_score(preds)\n",
        "        return 'WRMSSE', score, False\n",
        "    \n",
        "########################### Lgb evaluators\n",
        "#################################################################################\n",
        "def get_evaluators(items_ids):\n",
        "    prices = pd.read_csv('/content/gdrive/My Drive/m5/sell_prices.csv')\n",
        "    calendar = pd.read_csv('/content/gdrive/My Drive/m5/calendar.csv')\n",
        "    train_fold_df = pd.read_csv('/content/gdrive/My Drive/m5/sales_train_validation.csv')\n",
        "    train_fold_df = train_fold_df[train_fold_df['item_id'].isin(items_ids)].reset_index(drop=True)\n",
        "\n",
        "    lgb_evaluators = [] \n",
        "    for i in range(2):\n",
        "        temp_train = train_fold_df.iloc[:,:-28*(i+1)]\n",
        "        if i==0:\n",
        "            temp_valid = train_fold_df.iloc[:, -28*(i+1):] # 85 -1913 дни\n",
        "        else:\n",
        "            temp_valid = train_fold_df.iloc[:, -28*(i+1):-28*i] # 58-85 дни\n",
        "\n",
        "        lgb_evaluator = WRMSSEForLightGBM(temp_train, temp_valid, calendar, prices)\n",
        "        lgb_evaluators.append(lgb_evaluator)\n",
        "\n",
        "    del train_fold_df, temp_train, temp_valid, prices, calendar\n",
        "    return lgb_evaluators"
      ],
      "execution_count": 7,
      "outputs": []
    },
    {
      "cell_type": "code",
      "metadata": {
        "id": "DFB_3kxAZpE8",
        "colab_type": "code",
        "colab": {}
      },
      "source": [
        "########################### Model\n",
        "#################################################################################\n",
        "import lightgbm as lgb\n",
        "lgb_params = {\n",
        "                    'boosting_type': 'gbdt',                      \n",
        "                    'metric': ['rmse'],           \n",
        "                    'subsample': 0.5,                \n",
        "                    'subsample_freq': 1,\n",
        "                    'learning_rate': 0.05,           \n",
        "                    'num_leaves': 2**8-1,            \n",
        "                    'min_data_in_leaf': 2**8-1,     \n",
        "                    'feature_fraction': 0.8,\n",
        "                    'n_estimators': 1500,            \n",
        "                    'early_stopping_rounds': 30,     \n",
        "                    'seed': SEED,\n",
        "                    'verbose': -1,\n",
        "                } \n",
        "\n",
        "def make_fast_test(df, block=0, loss_func='tweedie'):\n",
        "    df = df.copy()\n",
        "    local_params = lgb_params.copy()           \n",
        "\n",
        "    # To be sure that some features are categoricals\n",
        "    icols = ['item_id','dept_id','cat_id','store_id','state_id', \n",
        "             'event_name_1','event_type_1','event_name_2','event_type_2',]\n",
        "    for col in icols:\n",
        "        try:\n",
        "            df[col] = df[col].astype('category')\n",
        "        except:\n",
        "            pass\n",
        "    \n",
        "    # Our features\n",
        "    features_columns = [col for col in list(df) if col not in remove_features]\n",
        "    print(features_columns)\n",
        "    \n",
        "    train_mask = (df['t_block']<(df['t_block'].max()-block))\n",
        "    valid_mask = (df['t_block']==(df['t_block'].max()-block))\n",
        "    \n",
        "    train_data = lgb.Dataset(df[train_mask][features_columns], label=df[train_mask][TARGET])\n",
        "    valid_data = lgb.Dataset(df[valid_mask][features_columns], label=df[valid_mask][TARGET])\n",
        "    \n",
        "    print('Train time block', df[train_mask]['t_block'].max(), df[train_mask]['d'].min(), df[train_mask]['d'].max())\n",
        "    print('Valid time block', df[valid_mask]['t_block'].max(), df[valid_mask]['d'].min(), df[valid_mask]['d'].max())\n",
        "    \n",
        "    temp_df = df[valid_mask]\n",
        "    del df\n",
        "    \n",
        "    if loss_func=='custom':\n",
        "        seed_everything(SEED)\n",
        "        estimator = lgb.train(\n",
        "                                local_params,\n",
        "                                train_data,\n",
        "                                valid_sets = [valid_data],\n",
        "                                verbose_eval = 20,\n",
        "                                fobj = custom_loss, \n",
        "                                feval=lgb_evaluators[block].feval,\n",
        "                            )\n",
        "        \n",
        "    elif loss_func=='tweedie':\n",
        "        local_params['objective'] = 'tweedie'             \n",
        "        local_params['tweedie_variance_power'] = 1.1  \n",
        "        seed_everything(SEED)\n",
        "        estimator = lgb.train(\n",
        "                                local_params,\n",
        "                                train_data,\n",
        "                                valid_sets = [valid_data],\n",
        "                                verbose_eval = 20,\n",
        "                                feval=lgb_evaluators[block].feval,\n",
        "                            ) \n",
        "        \n",
        "    else:\n",
        "        local_params['objective'] = 'regression'             \n",
        "        seed_everything(SEED)\n",
        "        estimator = lgb.train(\n",
        "                                local_params,\n",
        "                                train_data,\n",
        "                                valid_sets = [valid_data],\n",
        "                                verbose_eval = 20,\n",
        "                                feval=lgb_evaluators[block].feval,\n",
        "                            )\n",
        "        \n",
        "    temp_df['preds'] = estimator.predict(temp_df[features_columns])\n",
        "    temp_df = temp_df[['id','d',TARGET,'preds']]\n",
        "    return estimator, temp_df\n"
      ],
      "execution_count": null,
      "outputs": []
    },
    {
      "cell_type": "code",
      "metadata": {
        "id": "EEd0XJh-ZpIA",
        "colab_type": "code",
        "colab": {
          "base_uri": "https://localhost:8080/",
          "height": 34
        },
        "outputId": "1c3f96fc-ef40-4bd5-dfe2-114d2d793653"
      },
      "source": [
        "########################### Make grid\n",
        "#################################################################################\n",
        "grid_df = pd.concat([pd.read_pickle('/content/gdrive/My Drive/m5_new/grid_part_1.pkl'),\n",
        "                     pd.read_pickle('/content/gdrive/My Drive/m5_new/grid_part_3.pkl').iloc[:,2:]],\n",
        "                     axis=1)\n",
        "grid_df['t_block'] = grid_df['d'].apply(lambda x: ceil((x+19)/(28))).astype(np.int8) #ceil возвр наименьшее целое число не меньше х\n",
        "grid_df = grid_df[grid_df['d']<=END_TRAIN]\n",
        "grid_df = grid_df[grid_df['t_block']>(grid_df['t_block'].max()-24)].reset_index(drop=True) #last 2 years\n",
        "lgb_evaluators = get_evaluators(list(grid_df['item_id'].unique()))\n",
        "gc.collect()"
      ],
      "execution_count": null,
      "outputs": [
        {
          "output_type": "execute_result",
          "data": {
            "text/plain": [
              "18"
            ]
          },
          "metadata": {
            "tags": []
          },
          "execution_count": 17
        }
      ]
    },
    {
      "cell_type": "code",
      "metadata": {
        "id": "BpqlJSDzEN3E",
        "colab_type": "code",
        "colab": {
          "base_uri": "https://localhost:8080/",
          "height": 50
        },
        "outputId": "19ea5764-bafe-4415-abde-68771ce8eecf"
      },
      "source": [
        "lgb_evaluators"
      ],
      "execution_count": null,
      "outputs": [
        {
          "output_type": "execute_result",
          "data": {
            "text/plain": [
              "[<__main__.WRMSSEForLightGBM at 0x7f6d27bd2be0>,\n",
              " <__main__.WRMSSEForLightGBM at 0x7f6d28de9f28>]"
            ]
          },
          "metadata": {
            "tags": []
          },
          "execution_count": 19
        }
      ]
    },
    {
      "cell_type": "code",
      "metadata": {
        "id": "gMdq166zumk_",
        "colab_type": "code",
        "colab": {
          "base_uri": "https://localhost:8080/",
          "height": 134
        },
        "outputId": "e37128be-44e3-40ba-d8a9-d2281d563730"
      },
      "source": [
        "########################### Unrealistic lag 1+\n",
        "#################################################################################\n",
        "grouper = grid_df.groupby(['id'])[TARGET]\n",
        "for i in range(1,8):\n",
        "    print(i)\n",
        "    grid_df['normal_lag_'+str(i)] = grouper.transform(lambda x: x.shift(i)).astype(np.float32)\n",
        "    \n",
        "del grouper"
      ],
      "execution_count": null,
      "outputs": [
        {
          "output_type": "stream",
          "text": [
            "1\n",
            "2\n",
            "3\n",
            "4\n",
            "5\n",
            "6\n",
            "7\n"
          ],
          "name": "stdout"
        }
      ]
    },
    {
      "cell_type": "code",
      "metadata": {
        "id": "5t3xHCjVx335",
        "colab_type": "code",
        "colab": {
          "base_uri": "https://localhost:8080/",
          "height": 1000
        },
        "outputId": "e9b5f4ba-1ac8-42fa-c4be-3603997af68f"
      },
      "source": [
        "########################### Make simple model with tweedie\n",
        "#################################################################################\n",
        "model_tweedie, preds_tweedie_df = make_fast_test(grid_df, 0, 'tweedie')\n",
        "print(lgb_evaluators[0].full_feval(preds_tweedie_df['preds'].values, pd.DataFrame())) \n",
        "lgb.plot_importance(model_tweedie, figsize=(15,15))"
      ],
      "execution_count": null,
      "outputs": [
        {
          "output_type": "stream",
          "text": [
            "['item_id', 'dept_id', 'cat_id', 'store_id', 'state_id', 'release', 'event_name_1', 'event_type_1', 'event_name_2', 'event_type_2', 'snap_CA', 'snap_TX', 'snap_WI', 'tm_d', 'tm_w', 'tm_m', 'tm_y', 'tm_wm', 'tm_dw', 'tm_w_end', 'normal_lag_1', 'normal_lag_2', 'normal_lag_3', 'normal_lag_4', 'normal_lag_5', 'normal_lag_6', 'normal_lag_7']\n",
            "Train time block 68 1242 1885\n",
            "Valid time block 69 1886 1913\n",
            "Training until validation scores don't improve for 30 rounds.\n",
            "[20]\tvalid_0's rmse: 2.38929\tvalid_0's WRMSSE: 1.25496\n",
            "[40]\tvalid_0's rmse: 2.01494\tvalid_0's WRMSSE: 0.805408\n",
            "[60]\tvalid_0's rmse: 1.94639\tvalid_0's WRMSSE: 0.630623\n",
            "[80]\tvalid_0's rmse: 1.92803\tvalid_0's WRMSSE: 0.55153\n",
            "[100]\tvalid_0's rmse: 1.92045\tvalid_0's WRMSSE: 0.520019\n",
            "[120]\tvalid_0's rmse: 1.91644\tvalid_0's WRMSSE: 0.517547\n",
            "[140]\tvalid_0's rmse: 1.91264\tvalid_0's WRMSSE: 0.510774\n",
            "[160]\tvalid_0's rmse: 1.91037\tvalid_0's WRMSSE: 0.506772\n",
            "[180]\tvalid_0's rmse: 1.90864\tvalid_0's WRMSSE: 0.504455\n",
            "[200]\tvalid_0's rmse: 1.90698\tvalid_0's WRMSSE: 0.502229\n",
            "[220]\tvalid_0's rmse: 1.90571\tvalid_0's WRMSSE: 0.502157\n",
            "[240]\tvalid_0's rmse: 1.90551\tvalid_0's WRMSSE: 0.508298\n",
            "Early stopping, best iteration is:\n",
            "[216]\tvalid_0's rmse: 1.906\tvalid_0's WRMSSE: 0.501747\n",
            "[0.281 0.343 0.402 0.338 0.406 0.41  0.472 0.485 0.551 0.746 0.786 0.8  ]\n",
            "('WRMSSE', 0.5017472224232847, False)\n"
          ],
          "name": "stdout"
        },
        {
          "output_type": "execute_result",
          "data": {
            "text/plain": [
              "<matplotlib.axes._subplots.AxesSubplot at 0x7f6d27ca0470>"
            ]
          },
          "metadata": {
            "tags": []
          },
          "execution_count": 24
        },
        {
          "output_type": "display_data",
          "data": {
            "image/png": "[encoded data removed]",
            "text/plain": [
              "<Figure size 1080x1080 with 1 Axes>"
            ]
          },
          "metadata": {
            "tags": [],
            "needs_background": "light"
          }
        }
      ]
    },
    {
      "cell_type": "code",
      "metadata": {
        "id": "lvL6tkSY1As_",
        "colab_type": "code",
        "colab": {}
      },
      "source": [
        "########################### Some custom loss here\n",
        "########################### The place to make own one\n",
        "#################################################################################\n",
        "def custom_loss(y_pred, y_true):\n",
        "    grad = y_pred - y_true.get_label()\n",
        "    hess = np.ones_like(y_pred)\n",
        "    return grad, hess"
      ],
      "execution_count": null,
      "outputs": []
    },
    {
      "cell_type": "code",
      "metadata": {
        "id": "37pt-5nsMhGK",
        "colab_type": "code",
        "colab": {
          "base_uri": "https://localhost:8080/",
          "height": 1000
        },
        "outputId": "72f310d0-d820-44e5-f533-a22d87901d72"
      },
      "source": [
        "########################### Make simple model with custom loss\n",
        "#################################################################################\n",
        "model_custom, preds_custom_df = make_fast_test(grid_df, 0, 'custom')\n",
        "print(lgb_evaluators[0].full_feval(preds_custom_df['preds'].values, pd.DataFrame())) \n",
        "lgb.plot_importance(model_custom, figsize=(15,15))"
      ],
      "execution_count": null,
      "outputs": [
        {
          "output_type": "stream",
          "text": [
            "['item_id', 'dept_id', 'cat_id', 'store_id', 'state_id', 'release', 'event_name_1', 'event_type_1', 'event_name_2', 'event_type_2', 'snap_CA', 'snap_TX', 'snap_WI', 'tm_d', 'tm_w', 'tm_m', 'tm_y', 'tm_wm', 'tm_dw', 'tm_w_end', 'normal_lag_1', 'normal_lag_2', 'normal_lag_3', 'normal_lag_4', 'normal_lag_5', 'normal_lag_6', 'normal_lag_7']\n",
            "Train time block 68 1242 1885\n",
            "Valid time block 69 1886 1913\n",
            "Training until validation scores don't improve for 30 rounds.\n",
            "[20]\tvalid_0's rmse: 2.31591\tvalid_0's WRMSSE: 2.10384\n",
            "[40]\tvalid_0's rmse: 2.00306\tvalid_0's WRMSSE: 1.04782\n",
            "[60]\tvalid_0's rmse: 1.94207\tvalid_0's WRMSSE: 0.715297\n",
            "[80]\tvalid_0's rmse: 1.92396\tvalid_0's WRMSSE: 0.597826\n",
            "[100]\tvalid_0's rmse: 1.91672\tvalid_0's WRMSSE: 0.555858\n",
            "[120]\tvalid_0's rmse: 1.91308\tvalid_0's WRMSSE: 0.53617\n",
            "[140]\tvalid_0's rmse: 1.91048\tvalid_0's WRMSSE: 0.528906\n",
            "[160]\tvalid_0's rmse: 1.90842\tvalid_0's WRMSSE: 0.524767\n",
            "[180]\tvalid_0's rmse: 1.90722\tvalid_0's WRMSSE: 0.522682\n",
            "[200]\tvalid_0's rmse: 1.90617\tvalid_0's WRMSSE: 0.521174\n",
            "[220]\tvalid_0's rmse: 1.90548\tvalid_0's WRMSSE: 0.522779\n",
            "Early stopping, best iteration is:\n",
            "[198]\tvalid_0's rmse: 1.90626\tvalid_0's WRMSSE: 0.520777\n",
            "[0.295 0.361 0.423 0.351 0.435 0.435 0.51  0.513 0.584 0.751 0.79  0.802]\n",
            "('WRMSSE', 0.5207771404875999, False)\n"
          ],
          "name": "stdout"
        },
        {
          "output_type": "execute_result",
          "data": {
            "text/plain": [
              "<matplotlib.axes._subplots.AxesSubplot at 0x7f6d27dc3e80>"
            ]
          },
          "metadata": {
            "tags": []
          },
          "execution_count": 27
        },
        {
          "output_type": "display_data",
          "data": {
            "image/png": "[encoded data removed]",
            "text/plain": [
              "<Figure size 1080x1080 with 1 Axes>"
            ]
          },
          "metadata": {
            "tags": [],
            "needs_background": "light"
          }
        }
      ]
    },
    {
      "cell_type": "code",
      "metadata": {
        "id": "rZROYdbeOFPh",
        "colab_type": "code",
        "colab": {
          "base_uri": "https://localhost:8080/",
          "height": 417
        },
        "outputId": "db127967-c0ad-4b1b-81c4-5d798afca46a"
      },
      "source": [
        "########################### Lets test several folds\n",
        "#################################################################################\n",
        "all_preds = pd.DataFrame()\n",
        "for i in [0,1]:\n",
        "    model_tweedie, preds_tweedie_df = make_fast_test(grid_df, i, 'tweedie')\n",
        "    all_preds = pd.concat([all_preds, preds_tweedie_df]).reset_index(drop=True) \n",
        "    print('-'*10)\n",
        "    \n",
        "all_preds"
      ],
      "execution_count": null,
      "outputs": [
        {
          "output_type": "stream",
          "text": [
            "['item_id', 'dept_id', 'cat_id', 'store_id', 'state_id', 'release', 'event_name_1', 'event_type_1', 'event_name_2', 'event_type_2', 'snap_CA', 'snap_TX', 'snap_WI', 'tm_d', 'tm_w', 'tm_m', 'tm_y', 'tm_wm', 'tm_dw', 'tm_w_end', 'normal_lag_1', 'normal_lag_2', 'normal_lag_3', 'normal_lag_4', 'normal_lag_5', 'normal_lag_6', 'normal_lag_7']\n",
            "Train time block 66 1242 1829\n",
            "Valid time block 67 1830 1857\n"
          ],
          "name": "stdout"
        },
        {
          "output_type": "error",
          "ename": "IndexError",
          "evalue": "ignored",
          "traceback": [
            "\u001b[0;31m---------------------------------------------------------------------------\u001b[0m",
            "\u001b[0;31mIndexError\u001b[0m                                Traceback (most recent call last)",
            "\u001b[0;32m<ipython-input-32-893b33b68da2>\u001b[0m in \u001b[0;36m<module>\u001b[0;34m()\u001b[0m\n\u001b[1;32m      3\u001b[0m \u001b[0mall_preds\u001b[0m \u001b[0;34m=\u001b[0m \u001b[0mpd\u001b[0m\u001b[0;34m.\u001b[0m\u001b[0mDataFrame\u001b[0m\u001b[0;34m(\u001b[0m\u001b[0;34m)\u001b[0m\u001b[0;34m\u001b[0m\u001b[0;34m\u001b[0m\u001b[0m\n\u001b[1;32m      4\u001b[0m \u001b[0;32mfor\u001b[0m \u001b[0mi\u001b[0m \u001b[0;32min\u001b[0m \u001b[0;34m[\u001b[0m\u001b[0;36m2\u001b[0m\u001b[0;34m]\u001b[0m\u001b[0;34m:\u001b[0m\u001b[0;34m\u001b[0m\u001b[0;34m\u001b[0m\u001b[0m\n\u001b[0;32m----> 5\u001b[0;31m     \u001b[0mmodel_tweedie\u001b[0m\u001b[0;34m,\u001b[0m \u001b[0mpreds_tweedie_df\u001b[0m \u001b[0;34m=\u001b[0m \u001b[0mmake_fast_test\u001b[0m\u001b[0;34m(\u001b[0m\u001b[0mgrid_df\u001b[0m\u001b[0;34m,\u001b[0m \u001b[0mi\u001b[0m\u001b[0;34m,\u001b[0m \u001b[0;34m'tweedie'\u001b[0m\u001b[0;34m)\u001b[0m\u001b[0;34m\u001b[0m\u001b[0;34m\u001b[0m\u001b[0m\n\u001b[0m\u001b[1;32m      6\u001b[0m     \u001b[0mall_preds\u001b[0m \u001b[0;34m=\u001b[0m \u001b[0mpd\u001b[0m\u001b[0;34m.\u001b[0m\u001b[0mconcat\u001b[0m\u001b[0;34m(\u001b[0m\u001b[0;34m[\u001b[0m\u001b[0mall_preds\u001b[0m\u001b[0;34m,\u001b[0m \u001b[0mpreds_tweedie_df\u001b[0m\u001b[0;34m]\u001b[0m\u001b[0;34m)\u001b[0m\u001b[0;34m.\u001b[0m\u001b[0mreset_index\u001b[0m\u001b[0;34m(\u001b[0m\u001b[0mdrop\u001b[0m\u001b[0;34m=\u001b[0m\u001b[0;32mTrue\u001b[0m\u001b[0;34m)\u001b[0m\u001b[0;34m\u001b[0m\u001b[0;34m\u001b[0m\u001b[0m\n\u001b[1;32m      7\u001b[0m     \u001b[0mprint\u001b[0m\u001b[0;34m(\u001b[0m\u001b[0;34m'-'\u001b[0m\u001b[0;34m*\u001b[0m\u001b[0;36m10\u001b[0m\u001b[0;34m)\u001b[0m\u001b[0;34m\u001b[0m\u001b[0;34m\u001b[0m\u001b[0m\n",
            "\u001b[0;32m<ipython-input-8-8a3eb114975e>\u001b[0m in \u001b[0;36mmake_fast_test\u001b[0;34m(***failed resolving arguments***)\u001b[0m\n\u001b[1;32m     66\u001b[0m                                 \u001b[0mvalid_sets\u001b[0m \u001b[0;34m=\u001b[0m \u001b[0;34m[\u001b[0m\u001b[0mvalid_data\u001b[0m\u001b[0;34m]\u001b[0m\u001b[0;34m,\u001b[0m\u001b[0;34m\u001b[0m\u001b[0;34m\u001b[0m\u001b[0m\n\u001b[1;32m     67\u001b[0m                                 \u001b[0mverbose_eval\u001b[0m \u001b[0;34m=\u001b[0m \u001b[0;36m20\u001b[0m\u001b[0;34m,\u001b[0m\u001b[0;34m\u001b[0m\u001b[0;34m\u001b[0m\u001b[0m\n\u001b[0;32m---> 68\u001b[0;31m                                 \u001b[0mfeval\u001b[0m\u001b[0;34m=\u001b[0m\u001b[0mlgb_evaluators\u001b[0m\u001b[0;34m[\u001b[0m\u001b[0mblock\u001b[0m\u001b[0;34m]\u001b[0m\u001b[0;34m.\u001b[0m\u001b[0mfeval\u001b[0m\u001b[0;34m,\u001b[0m\u001b[0;34m\u001b[0m\u001b[0;34m\u001b[0m\u001b[0m\n\u001b[0m\u001b[1;32m     69\u001b[0m                             ) \n\u001b[1;32m     70\u001b[0m \u001b[0;34m\u001b[0m\u001b[0m\n",
            "\u001b[0;31mIndexError\u001b[0m: list index out of range"
          ]
        }
      ]
    },
    {
      "cell_type": "code",
      "metadata": {
        "id": "tbT2aXSZSya6",
        "colab_type": "code",
        "colab": {
          "base_uri": "https://localhost:8080/",
          "height": 892
        },
        "outputId": "9907cb2d-082b-4e93-8a22-df2ec0a96953"
      },
      "source": [
        "########################### Lets test limited item ids\n",
        "#################################################################################\n",
        "keep_id = np.array_split(list(grid_df['item_id'].unique()), 20)[0]\n",
        "lgb_evaluators = get_evaluators(keep_id)\n",
        "temp_df = grid_df[grid_df['item_id'].isin(keep_id)]\n",
        "\n",
        "all_preds = pd.DataFrame()\n",
        "for i in [0,1]:\n",
        "    model_tweedie, preds_tweedie_df = make_fast_test(temp_df, i, 'tweedie')\n",
        "    all_preds = pd.concat([all_preds, preds_tweedie_df]).reset_index(drop=True) \n",
        "    print('-'*10)\n",
        "    \n",
        "all_preds"
      ],
      "execution_count": null,
      "outputs": [
        {
          "output_type": "stream",
          "text": [
            "['item_id', 'dept_id', 'cat_id', 'store_id', 'state_id', 'release', 'event_name_1', 'event_type_1', 'event_name_2', 'event_type_2', 'snap_CA', 'snap_TX', 'snap_WI', 'tm_d', 'tm_w', 'tm_m', 'tm_y', 'tm_wm', 'tm_dw', 'tm_w_end', 'normal_lag_1', 'normal_lag_2', 'normal_lag_3', 'normal_lag_4', 'normal_lag_5', 'normal_lag_6', 'normal_lag_7']\n",
            "Train time block 68 1242 1885\n",
            "Valid time block 69 1886 1913\n",
            "Training until validation scores don't improve for 30 rounds.\n",
            "[20]\tvalid_0's rmse: 1.84121\tvalid_0's WRMSSE: 0.988255\n",
            "[40]\tvalid_0's rmse: 1.7546\tvalid_0's WRMSSE: 0.794484\n",
            "[60]\tvalid_0's rmse: 1.73781\tvalid_0's WRMSSE: 0.718219\n",
            "[80]\tvalid_0's rmse: 1.73151\tvalid_0's WRMSSE: 0.680014\n",
            "[100]\tvalid_0's rmse: 1.72763\tvalid_0's WRMSSE: 0.656047\n",
            "[120]\tvalid_0's rmse: 1.72544\tvalid_0's WRMSSE: 0.643923\n",
            "[140]\tvalid_0's rmse: 1.72495\tvalid_0's WRMSSE: 0.636597\n",
            "[160]\tvalid_0's rmse: 1.72476\tvalid_0's WRMSSE: 0.63322\n",
            "Early stopping, best iteration is:\n",
            "[132]\tvalid_0's rmse: 1.7242\tvalid_0's WRMSSE: 0.64121\n",
            "----------\n",
            "['item_id', 'dept_id', 'cat_id', 'store_id', 'state_id', 'release', 'event_name_1', 'event_type_1', 'event_name_2', 'event_type_2', 'snap_CA', 'snap_TX', 'snap_WI', 'tm_d', 'tm_w', 'tm_m', 'tm_y', 'tm_wm', 'tm_dw', 'tm_w_end', 'normal_lag_1', 'normal_lag_2', 'normal_lag_3', 'normal_lag_4', 'normal_lag_5', 'normal_lag_6', 'normal_lag_7']\n",
            "Train time block 67 1242 1857\n",
            "Valid time block 68 1858 1885\n",
            "Training until validation scores don't improve for 30 rounds.\n",
            "[20]\tvalid_0's rmse: 1.80468\tvalid_0's WRMSSE: 0.822551\n",
            "[40]\tvalid_0's rmse: 1.72163\tvalid_0's WRMSSE: 0.662856\n",
            "[60]\tvalid_0's rmse: 1.7066\tvalid_0's WRMSSE: 0.620641\n",
            "[80]\tvalid_0's rmse: 1.70397\tvalid_0's WRMSSE: 0.607876\n",
            "[100]\tvalid_0's rmse: 1.70412\tvalid_0's WRMSSE: 0.607277\n",
            "[120]\tvalid_0's rmse: 1.70415\tvalid_0's WRMSSE: 0.606516\n",
            "Early stopping, best iteration is:\n",
            "[91]\tvalid_0's rmse: 1.70274\tvalid_0's WRMSSE: 0.607174\n",
            "----------\n"
          ],
          "name": "stdout"
        },
        {
          "output_type": "execute_result",
          "data": {
            "text/html": [
              "<div>\n",
              "<style scoped>\n",
              "    .dataframe tbody tr th:only-of-type {\n",
              "        vertical-align: middle;\n",
              "    }\n",
              "\n",
              "    .dataframe tbody tr th {\n",
              "        vertical-align: top;\n",
              "    }\n",
              "\n",
              "    .dataframe thead th {\n",
              "        text-align: right;\n",
              "    }\n",
              "</style>\n",
              "<table border=\"1\" class=\"dataframe\">\n",
              "  <thead>\n",
              "    <tr style=\"text-align: right;\">\n",
              "      <th></th>\n",
              "      <th>id</th>\n",
              "      <th>d</th>\n",
              "      <th>sales</th>\n",
              "      <th>preds</th>\n",
              "    </tr>\n",
              "  </thead>\n",
              "  <tbody>\n",
              "    <tr>\n",
              "      <th>0</th>\n",
              "      <td>HOBBIES_1_001_CA_1_validation</td>\n",
              "      <td>1886</td>\n",
              "      <td>1.0</td>\n",
              "      <td>0.853170</td>\n",
              "    </tr>\n",
              "    <tr>\n",
              "      <th>1</th>\n",
              "      <td>HOBBIES_1_002_CA_1_validation</td>\n",
              "      <td>1886</td>\n",
              "      <td>1.0</td>\n",
              "      <td>0.330281</td>\n",
              "    </tr>\n",
              "    <tr>\n",
              "      <th>2</th>\n",
              "      <td>HOBBIES_1_003_CA_1_validation</td>\n",
              "      <td>1886</td>\n",
              "      <td>0.0</td>\n",
              "      <td>0.321862</td>\n",
              "    </tr>\n",
              "    <tr>\n",
              "      <th>3</th>\n",
              "      <td>HOBBIES_1_004_CA_1_validation</td>\n",
              "      <td>1886</td>\n",
              "      <td>0.0</td>\n",
              "      <td>2.914574</td>\n",
              "    </tr>\n",
              "    <tr>\n",
              "      <th>4</th>\n",
              "      <td>HOBBIES_1_005_CA_1_validation</td>\n",
              "      <td>1886</td>\n",
              "      <td>1.0</td>\n",
              "      <td>1.075376</td>\n",
              "    </tr>\n",
              "    <tr>\n",
              "      <th>...</th>\n",
              "      <td>...</td>\n",
              "      <td>...</td>\n",
              "      <td>...</td>\n",
              "      <td>...</td>\n",
              "    </tr>\n",
              "    <tr>\n",
              "      <th>85675</th>\n",
              "      <td>HOBBIES_1_156_WI_3_validation</td>\n",
              "      <td>1885</td>\n",
              "      <td>0.0</td>\n",
              "      <td>0.442647</td>\n",
              "    </tr>\n",
              "    <tr>\n",
              "      <th>85676</th>\n",
              "      <td>HOBBIES_1_157_WI_3_validation</td>\n",
              "      <td>1885</td>\n",
              "      <td>0.0</td>\n",
              "      <td>0.258799</td>\n",
              "    </tr>\n",
              "    <tr>\n",
              "      <th>85677</th>\n",
              "      <td>HOBBIES_1_158_WI_3_validation</td>\n",
              "      <td>1885</td>\n",
              "      <td>2.0</td>\n",
              "      <td>2.161895</td>\n",
              "    </tr>\n",
              "    <tr>\n",
              "      <th>85678</th>\n",
              "      <td>HOBBIES_1_159_WI_3_validation</td>\n",
              "      <td>1885</td>\n",
              "      <td>0.0</td>\n",
              "      <td>0.234132</td>\n",
              "    </tr>\n",
              "    <tr>\n",
              "      <th>85679</th>\n",
              "      <td>HOBBIES_1_160_WI_3_validation</td>\n",
              "      <td>1885</td>\n",
              "      <td>0.0</td>\n",
              "      <td>0.237685</td>\n",
              "    </tr>\n",
              "  </tbody>\n",
              "</table>\n",
              "<p>85680 rows × 4 columns</p>\n",
              "</div>"
            ],
            "text/plain": [
              "                                  id     d  sales     preds\n",
              "0      HOBBIES_1_001_CA_1_validation  1886    1.0  0.853170\n",
              "1      HOBBIES_1_002_CA_1_validation  1886    1.0  0.330281\n",
              "2      HOBBIES_1_003_CA_1_validation  1886    0.0  0.321862\n",
              "3      HOBBIES_1_004_CA_1_validation  1886    0.0  2.914574\n",
              "4      HOBBIES_1_005_CA_1_validation  1886    1.0  1.075376\n",
              "...                              ...   ...    ...       ...\n",
              "85675  HOBBIES_1_156_WI_3_validation  1885    0.0  0.442647\n",
              "85676  HOBBIES_1_157_WI_3_validation  1885    0.0  0.258799\n",
              "85677  HOBBIES_1_158_WI_3_validation  1885    2.0  2.161895\n",
              "85678  HOBBIES_1_159_WI_3_validation  1885    0.0  0.234132\n",
              "85679  HOBBIES_1_160_WI_3_validation  1885    0.0  0.237685\n",
              "\n",
              "[85680 rows x 4 columns]"
            ]
          },
          "metadata": {
            "tags": []
          },
          "execution_count": 33
        }
      ]
    },
    {
      "cell_type": "code",
      "metadata": {
        "id": "G57lom6XhBAt",
        "colab_type": "code",
        "colab": {
          "base_uri": "https://localhost:8080/",
          "height": 1000
        },
        "outputId": "29813851-a6a2-4dc6-8c8b-9a714b256365"
      },
      "source": [
        "########################### Lets do better item_id split\n",
        "#################################################################################\n",
        "from sklearn.model_selection import train_test_split\n",
        "\n",
        "keep_id,_ = train_test_split(list(grid_df['item_id'].unique()), test_size=0.7, random_state=SEED)\n",
        "lgb_evaluators = get_evaluators(keep_id)\n",
        "temp_df = grid_df[grid_df['item_id'].isin(keep_id)]\n",
        "\n",
        "all_preds = pd.DataFrame()\n",
        "for i in [0,1]:\n",
        "    model_tweedie, preds_tweedie_df = make_fast_test(temp_df, i, 'tweedie')\n",
        "    all_preds = pd.concat([all_preds, preds_tweedie_df]).reset_index(drop=True) \n",
        "    print('-'*10)\n",
        "    \n",
        "all_preds"
      ],
      "execution_count": null,
      "outputs": [
        {
          "output_type": "stream",
          "text": [
            "['item_id', 'dept_id', 'cat_id', 'store_id', 'state_id', 'release', 'event_name_1', 'event_type_1', 'event_name_2', 'event_type_2', 'snap_CA', 'snap_TX', 'snap_WI', 'tm_d', 'tm_w', 'tm_m', 'tm_y', 'tm_wm', 'tm_dw', 'tm_w_end', 'normal_lag_1', 'normal_lag_2', 'normal_lag_3', 'normal_lag_4', 'normal_lag_5', 'normal_lag_6', 'normal_lag_7']\n",
            "Train time block 68 1242 1885\n",
            "Valid time block 69 1886 1913\n",
            "Training until validation scores don't improve for 30 rounds.\n",
            "[20]\tvalid_0's rmse: 2.15193\tvalid_0's WRMSSE: 1.24195\n",
            "[40]\tvalid_0's rmse: 1.85023\tvalid_0's WRMSSE: 0.819566\n",
            "[60]\tvalid_0's rmse: 1.78853\tvalid_0's WRMSSE: 0.664279\n",
            "[80]\tvalid_0's rmse: 1.76667\tvalid_0's WRMSSE: 0.594011\n",
            "[100]\tvalid_0's rmse: 1.75679\tvalid_0's WRMSSE: 0.563677\n",
            "[120]\tvalid_0's rmse: 1.75217\tvalid_0's WRMSSE: 0.548697\n",
            "[140]\tvalid_0's rmse: 1.74925\tvalid_0's WRMSSE: 0.543365\n",
            "[160]\tvalid_0's rmse: 1.74668\tvalid_0's WRMSSE: 0.540229\n",
            "[180]\tvalid_0's rmse: 1.74429\tvalid_0's WRMSSE: 0.537778\n",
            "[200]\tvalid_0's rmse: 1.74175\tvalid_0's WRMSSE: 0.53578\n",
            "[220]\tvalid_0's rmse: 1.74075\tvalid_0's WRMSSE: 0.534087\n",
            "[240]\tvalid_0's rmse: 1.74044\tvalid_0's WRMSSE: 0.532693\n",
            "[260]\tvalid_0's rmse: 1.73827\tvalid_0's WRMSSE: 0.532108\n",
            "Early stopping, best iteration is:\n",
            "[243]\tvalid_0's rmse: 1.74016\tvalid_0's WRMSSE: 0.531912\n",
            "----------\n",
            "['item_id', 'dept_id', 'cat_id', 'store_id', 'state_id', 'release', 'event_name_1', 'event_type_1', 'event_name_2', 'event_type_2', 'snap_CA', 'snap_TX', 'snap_WI', 'tm_d', 'tm_w', 'tm_m', 'tm_y', 'tm_wm', 'tm_dw', 'tm_w_end', 'normal_lag_1', 'normal_lag_2', 'normal_lag_3', 'normal_lag_4', 'normal_lag_5', 'normal_lag_6', 'normal_lag_7']\n",
            "Train time block 67 1242 1857\n",
            "Valid time block 68 1858 1885\n",
            "Training until validation scores don't improve for 30 rounds.\n",
            "[20]\tvalid_0's rmse: 2.24576\tvalid_0's WRMSSE: 1.23184\n",
            "[40]\tvalid_0's rmse: 1.97167\tvalid_0's WRMSSE: 0.825331\n",
            "[60]\tvalid_0's rmse: 1.91927\tvalid_0's WRMSSE: 0.688193\n",
            "[80]\tvalid_0's rmse: 1.90252\tvalid_0's WRMSSE: 0.638894\n",
            "[100]\tvalid_0's rmse: 1.89239\tvalid_0's WRMSSE: 0.617352\n",
            "[120]\tvalid_0's rmse: 1.88772\tvalid_0's WRMSSE: 0.611318\n",
            "[140]\tvalid_0's rmse: 1.88258\tvalid_0's WRMSSE: 0.608678\n",
            "[160]\tvalid_0's rmse: 1.87876\tvalid_0's WRMSSE: 0.605222\n",
            "[180]\tvalid_0's rmse: 1.87693\tvalid_0's WRMSSE: 0.602865\n",
            "[200]\tvalid_0's rmse: 1.87583\tvalid_0's WRMSSE: 0.601723\n",
            "[220]\tvalid_0's rmse: 1.87346\tvalid_0's WRMSSE: 0.60095\n",
            "[240]\tvalid_0's rmse: 1.87155\tvalid_0's WRMSSE: 0.59838\n",
            "[260]\tvalid_0's rmse: 1.87064\tvalid_0's WRMSSE: 0.598764\n",
            "[280]\tvalid_0's rmse: 1.87021\tvalid_0's WRMSSE: 0.598426\n",
            "[300]\tvalid_0's rmse: 1.86856\tvalid_0's WRMSSE: 0.598611\n",
            "Early stopping, best iteration is:\n",
            "[284]\tvalid_0's rmse: 1.86869\tvalid_0's WRMSSE: 0.598024\n",
            "----------\n"
          ],
          "name": "stdout"
        },
        {
          "output_type": "execute_result",
          "data": {
            "text/html": [
              "<div>\n",
              "<style scoped>\n",
              "    .dataframe tbody tr th:only-of-type {\n",
              "        vertical-align: middle;\n",
              "    }\n",
              "\n",
              "    .dataframe tbody tr th {\n",
              "        vertical-align: top;\n",
              "    }\n",
              "\n",
              "    .dataframe thead th {\n",
              "        text-align: right;\n",
              "    }\n",
              "</style>\n",
              "<table border=\"1\" class=\"dataframe\">\n",
              "  <thead>\n",
              "    <tr style=\"text-align: right;\">\n",
              "      <th></th>\n",
              "      <th>id</th>\n",
              "      <th>d</th>\n",
              "      <th>sales</th>\n",
              "      <th>preds</th>\n",
              "    </tr>\n",
              "  </thead>\n",
              "  <tbody>\n",
              "    <tr>\n",
              "      <th>0</th>\n",
              "      <td>HOBBIES_1_002_CA_1_validation</td>\n",
              "      <td>1886</td>\n",
              "      <td>1.0</td>\n",
              "      <td>0.310463</td>\n",
              "    </tr>\n",
              "    <tr>\n",
              "      <th>1</th>\n",
              "      <td>HOBBIES_1_004_CA_1_validation</td>\n",
              "      <td>1886</td>\n",
              "      <td>0.0</td>\n",
              "      <td>3.132206</td>\n",
              "    </tr>\n",
              "    <tr>\n",
              "      <th>2</th>\n",
              "      <td>HOBBIES_1_005_CA_1_validation</td>\n",
              "      <td>1886</td>\n",
              "      <td>1.0</td>\n",
              "      <td>0.841580</td>\n",
              "    </tr>\n",
              "    <tr>\n",
              "      <th>3</th>\n",
              "      <td>HOBBIES_1_006_CA_1_validation</td>\n",
              "      <td>1886</td>\n",
              "      <td>0.0</td>\n",
              "      <td>1.232732</td>\n",
              "    </tr>\n",
              "    <tr>\n",
              "      <th>4</th>\n",
              "      <td>HOBBIES_1_010_CA_1_validation</td>\n",
              "      <td>1886</td>\n",
              "      <td>0.0</td>\n",
              "      <td>0.229364</td>\n",
              "    </tr>\n",
              "    <tr>\n",
              "      <th>...</th>\n",
              "      <td>...</td>\n",
              "      <td>...</td>\n",
              "      <td>...</td>\n",
              "      <td>...</td>\n",
              "    </tr>\n",
              "    <tr>\n",
              "      <th>511835</th>\n",
              "      <td>FOODS_3_814_WI_3_validation</td>\n",
              "      <td>1885</td>\n",
              "      <td>0.0</td>\n",
              "      <td>2.208671</td>\n",
              "    </tr>\n",
              "    <tr>\n",
              "      <th>511836</th>\n",
              "      <td>FOODS_3_822_WI_3_validation</td>\n",
              "      <td>1885</td>\n",
              "      <td>5.0</td>\n",
              "      <td>2.396117</td>\n",
              "    </tr>\n",
              "    <tr>\n",
              "      <th>511837</th>\n",
              "      <td>FOODS_3_823_WI_3_validation</td>\n",
              "      <td>1885</td>\n",
              "      <td>0.0</td>\n",
              "      <td>0.140352</td>\n",
              "    </tr>\n",
              "    <tr>\n",
              "      <th>511838</th>\n",
              "      <td>FOODS_3_824_WI_3_validation</td>\n",
              "      <td>1885</td>\n",
              "      <td>0.0</td>\n",
              "      <td>0.042006</td>\n",
              "    </tr>\n",
              "    <tr>\n",
              "      <th>511839</th>\n",
              "      <td>FOODS_3_825_WI_3_validation</td>\n",
              "      <td>1885</td>\n",
              "      <td>1.0</td>\n",
              "      <td>0.687469</td>\n",
              "    </tr>\n",
              "  </tbody>\n",
              "</table>\n",
              "<p>511840 rows × 4 columns</p>\n",
              "</div>"
            ],
            "text/plain": [
              "                                   id     d  sales     preds\n",
              "0       HOBBIES_1_002_CA_1_validation  1886    1.0  0.310463\n",
              "1       HOBBIES_1_004_CA_1_validation  1886    0.0  3.132206\n",
              "2       HOBBIES_1_005_CA_1_validation  1886    1.0  0.841580\n",
              "3       HOBBIES_1_006_CA_1_validation  1886    0.0  1.232732\n",
              "4       HOBBIES_1_010_CA_1_validation  1886    0.0  0.229364\n",
              "...                               ...   ...    ...       ...\n",
              "511835    FOODS_3_814_WI_3_validation  1885    0.0  2.208671\n",
              "511836    FOODS_3_822_WI_3_validation  1885    5.0  2.396117\n",
              "511837    FOODS_3_823_WI_3_validation  1885    0.0  0.140352\n",
              "511838    FOODS_3_824_WI_3_validation  1885    0.0  0.042006\n",
              "511839    FOODS_3_825_WI_3_validation  1885    1.0  0.687469\n",
              "\n",
              "[511840 rows x 4 columns]"
            ]
          },
          "metadata": {
            "tags": []
          },
          "execution_count": 34
        }
      ]
    },
    {
      "cell_type": "code",
      "metadata": {
        "id": "rjPc5EAVkJX5",
        "colab_type": "code",
        "colab": {}
      },
      "source": [
        ""
      ],
      "execution_count": null,
      "outputs": []
    }
  ]
}